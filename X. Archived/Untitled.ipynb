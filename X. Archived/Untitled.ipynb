{
 "cells": [
  {
   "cell_type": "code",
   "execution_count": 1,
   "metadata": {},
   "outputs": [],
   "source": [
    "import requests\n",
    "from bs4 import BeautifulSoup\n",
    "import pandas as pd\n",
    "import json\n",
    "from selenium import webdriver"
   ]
  },
  {
   "cell_type": "code",
   "execution_count": 11,
   "metadata": {},
   "outputs": [],
   "source": [
    "data_scientist = []\n",
    "driver = webdriver.Chrome('./chromedriver')\n",
    "\n",
    "for i in range(18):\n",
    "    URL = \"https://www.glassdoor.com.hk/Job/hong-kong-data-scientist-jobs-SRCH_IL.0,9_IN106_KO10,24_IP\"+str(i+1)+\".htm\"\n",
    "    driver.get(URL)\n",
    "    html = driver.page_source\n",
    "    soup = BeautifulSoup(html, \"html.parser\")\n",
    "    \n",
    "    for companies in soup.find_all(\"div\", id_=\"d-flex justify-content-between align-items-start\"):\n",
    "        company = companies.a.span.gettext()\n",
    "    \n",
    "    for k in\n",
    "        type_company =\n",
    "        industry =\n",
    "        sector =\n",
    "    \n",
    "    for positions in soup.find_all(\"a\", class_=\"jobLink css-1rd3saf eigr9kq2\"):\n",
    "        position = positions.a.span.gettext()\n",
    "    \n",
    "    for salaries in soup.find_all(\"span\", class_=\"css-1imh2hq e1wijj242\"):\n",
    "        salary = salaries.gettext()\n",
    "        \n",
    "    for ratings in soup.find_all(\"div\", class_=\"d-flex flex-column css-x75kgh e1rrn5ka3\"):\n",
    "        rating = ratings.a.span.gettext()\n",
    "        \n",
    "        data_scientist_single = [company, type_company, industry, sector, position, salary, rating]\n",
    "        data_scientist.append(data_scientist_single)"
   ]
  },
  {
   "cell_type": "code",
   "execution_count": 12,
   "metadata": {},
   "outputs": [
    {
     "data": {
      "text/html": [
       "<div>\n",
       "<style scoped>\n",
       "    .dataframe tbody tr th:only-of-type {\n",
       "        vertical-align: middle;\n",
       "    }\n",
       "\n",
       "    .dataframe tbody tr th {\n",
       "        vertical-align: top;\n",
       "    }\n",
       "\n",
       "    .dataframe thead th {\n",
       "        text-align: right;\n",
       "    }\n",
       "</style>\n",
       "<table border=\"1\" class=\"dataframe\">\n",
       "  <thead>\n",
       "    <tr style=\"text-align: right;\">\n",
       "      <th></th>\n",
       "      <th>company</th>\n",
       "      <th>type_company</th>\n",
       "      <th>industry</th>\n",
       "      <th>sector</th>\n",
       "      <th>position</th>\n",
       "      <th>salary</th>\n",
       "      <th>rating</th>\n",
       "    </tr>\n",
       "  </thead>\n",
       "  <tbody>\n",
       "  </tbody>\n",
       "</table>\n",
       "</div>"
      ],
      "text/plain": [
       "Empty DataFrame\n",
       "Columns: [company, type_company, industry, sector, position, salary, rating]\n",
       "Index: []"
      ]
     },
     "execution_count": 12,
     "metadata": {},
     "output_type": "execute_result"
    }
   ],
   "source": [
    "df = pd.DataFrame(data_scientist, columns = ['company', 'type_company', 'industry', 'sector', 'position', 'salary', 'rating'])\n",
    "df"
   ]
  },
  {
   "cell_type": "code",
   "execution_count": 10,
   "metadata": {},
   "outputs": [
    {
     "data": {
      "text/plain": [
       "[['Hutchison Travel Limited (hutchgo.com)',\n",
       "  'Junior Data Scientist',\n",
       "  'HK$264K - HK$500K (Glassdoor Est.)'],\n",
       " ['Michael Page HK',\n",
       "  'Associate Data Scientist/ Data Scientist - Top Tier Bank',\n",
       "  'HK$432K - HK$660K (Glassdoor Est.)'],\n",
       " ['Bank of China (Hong Kong) Limited',\n",
       "  'Senior Data Analyst / Data Analyst (Data Scientist)',\n",
       "  'HK$264K - HK$500K (Glassdoor Est.)'],\n",
       " ['Chiyu Banking Corporation Limited',\n",
       "  'Data Analyst',\n",
       "  'HK$216K - HK$408K (Glassdoor Est.)'],\n",
       " ['Michael Page HK',\n",
       "  'AI Manager (Data Scientist)',\n",
       "  'HK$300K - HK$500K (Glassdoor Est.)'],\n",
       " ['Morgan McKinley',\n",
       "  'Business / Data Analyst (Bank), Renewable Contract',\n",
       "  'HK$144K - HK$420K (Glassdoor Est.)'],\n",
       " ['Pacific Careers', 'Data Engineer', 'HK$216K - HK$456K (Glassdoor Est.)'],\n",
       " ['Crypto.com',\n",
       "  'Data Architect - Global Fintech Startup',\n",
       "  'HK$302K - HK$504K (Glassdoor Est.)'],\n",
       " ['BASF',\n",
       "  'Intern, Data Science & Machine Learning,',\n",
       "  'HK$426K - HK$437K (Glassdoor Est.)'],\n",
       " ['BNP Paribas',\n",
       "  'Quantitative Research',\n",
       "  'HK$222K - HK$420K (Glassdoor Est.)'],\n",
       " [\"Maxim's Caterers Limited\",\n",
       "  'Assistant Business Analytic Manager (Supply Chain)',\n",
       "  'HK$120K - HK$495K (Glassdoor Est.)'],\n",
       " ['AGS Group',\n",
       "  'Data Engineer (Warehouse / ETL / Informatica)',\n",
       "  'HK$216K - HK$420K (Glassdoor Est.)'],\n",
       " ['Integrated Management Systems',\n",
       "  'Senior/ Data Engineer',\n",
       "  'HK$190K - HK$396K (Glassdoor Est.)'],\n",
       " ['Williamselect',\n",
       "  'Business Data Analyst - SaaS Service Provider (Welcome Fresh Grad, 15-18K)',\n",
       "  'HK$291K - HK$456K (Glassdoor Est.)'],\n",
       " ['Seamatch Asia',\n",
       "  'Project Manager/ System Analyst / Data Engineer /Project Trainee',\n",
       "  'HK$240K - HK$603K (Glassdoor Est.)'],\n",
       " ['Deskimo',\n",
       "  'DATA ANALYST (SUMMER INTERN 2021)',\n",
       "  'HK$261K - HK$480K (Glassdoor Est.)'],\n",
       " ['S.F. Express (Hong Kong) Limited',\n",
       "  '(Senior) Data Analyst',\n",
       "  'HK$282K - HK$450K (Glassdoor Est.)'],\n",
       " ['RGA', 'Senior Data Engineer', 'HK$143K - HK$222K (Glassdoor Est.)']]"
      ]
     },
     "execution_count": 10,
     "metadata": {},
     "output_type": "execute_result"
    }
   ],
   "source": [
    "URL = \"http://www.glassdoor.com.hk/Job/data-scientist-jobs-SRCH_KO0,14_IP\"+str(i+1)+\".htm\"\n",
    "driver = webdriver.Chrome('./chromedriver')\n",
    "driver.get(URL)\n",
    "html = driver.page_source\n",
    "soup = BeautifulSoup(html, \"html.parser\")\n",
    "\n",
    "data_scientist = []\n",
    "\n",
    "x = int(number.p.get_text[0]) for jobs in soup.find_all(\"div\", class_=\"css-on91w6 e1ry8h3g0\")\n",
    "\n",
    "for i in range(x):\n",
    "        \n",
    "    for j in soup.find_all(\"div\", class_=\"d-flex justify-content-between align-items-start\"):\n",
    "        companies = j.a.span.get_text()\n",
    "        \n",
    "    for k in soup.find_all(\"a\", class_=\"jobLink css-1rd3saf eigr9kq2\"):\n",
    "        roles = k.span.get_text()\n",
    "        \n",
    "    for l in soup.find_all(\"div\", class_=\"css-nq3w9f pr-xxsm\"):\n",
    "        salary_range = l.span.get_text()\n",
    "        \n",
    "    data_scientist_single = [companies, roles, salary_range]\n",
    "    data_scientist.append(data_scientist_single)\n",
    "    \n",
    "data_scientist"
   ]
  },
  {
   "cell_type": "code",
   "execution_count": 22,
   "metadata": {},
   "outputs": [
    {
     "data": {
      "text/plain": [
       "[<bound method Tag.get_text of <p class=\"css-efsdec e1ry8h3g2\" data-test=\"jobsCount\">232<!-- --> <!-- -->Jobs</p>>]"
      ]
     },
     "execution_count": 22,
     "metadata": {},
     "output_type": "execute_result"
    }
   ],
   "source": [
    "URL = \"http://www.glassdoor.com.hk/Job/data-scientist-jobs-SRCH_KO0,14_IP\"+str(i+1)+\".htm\"\n",
    "driver = webdriver.Chrome('./chromedriver')\n",
    "driver.get(URL)\n",
    "html = driver.page_source\n",
    "soup = BeautifulSoup(html, \"html.parser\")\n",
    "\n",
    "x = [number.p.get_text for number in soup.find_all(\"div\", class_=\"css-on91w6 e1ry8h3g0\")]\n",
    "x"
   ]
  },
  {
   "cell_type": "code",
   "execution_count": null,
   "metadata": {},
   "outputs": [],
   "source": []
  }
 ],
 "metadata": {
  "kernelspec": {
   "display_name": "Python 3",
   "language": "python",
   "name": "python3"
  },
  "language_info": {
   "codemirror_mode": {
    "name": "ipython",
    "version": 3
   },
   "file_extension": ".py",
   "mimetype": "text/x-python",
   "name": "python",
   "nbconvert_exporter": "python",
   "pygments_lexer": "ipython3",
   "version": "3.8.5"
  }
 },
 "nbformat": 4,
 "nbformat_minor": 4
}
