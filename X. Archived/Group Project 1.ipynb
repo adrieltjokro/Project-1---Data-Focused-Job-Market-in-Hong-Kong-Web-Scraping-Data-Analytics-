{
 "cells": [
  {
   "cell_type": "code",
   "execution_count": 164,
   "metadata": {},
   "outputs": [],
   "source": [
    "import requests\n",
    "import pandas as pd\n",
    "import json\n",
    "from bs4 import BeautifulSoup\n",
    "from selenium import webdriver\n",
    "from selenium.webdriver.common.keys import Keys\n",
    "from selenium.webdriver.support.ui import WebDriverWait"
   ]
  },
  {
   "cell_type": "code",
   "execution_count": 165,
   "metadata": {},
   "outputs": [],
   "source": [
    "URL = \"https://www.glassdoor.com.hk/Job/data-scientist-jobs-SRCH_KO0,14.htm\"\n",
    "driver = webdriver.Chrome('./chromedriver')\n",
    "driver.get(URL)\n",
    "html = driver.page_source\n",
    "soup = BeautifulSoup(html, \"html.parser\")\n",
    "soup.status_code"
   ]
  },
  {
   "cell_type": "code",
   "execution_count": 153,
   "metadata": {},
   "outputs": [],
   "source": [
    "URL_list = []\n",
    "\n",
    "for i in range(1,20):\n",
    "    URL = \"https://www.glassdoor.com.hk/Job/data-scientist-jobs-SRCH_KO0,14.htm?p=\"+str(i+1)\n",
    "    URL_list.append(URL)"
   ]
  },
  {
   "cell_type": "code",
   "execution_count": 166,
   "metadata": {},
   "outputs": [
    {
     "data": {
      "text/plain": [
       "['SearchAsia',\n",
       " 'Michael Page HK',\n",
       " 'IBM',\n",
       " 'Visa',\n",
       " 'Arup',\n",
       " 'Meridian Innovation Limited',\n",
       " 'Pinpoint Asia',\n",
       " 'Adecco Hong Kong',\n",
       " 'Lululemon',\n",
       " 'South China Morning Post',\n",
       " 'Crypto.com',\n",
       " 'Octopus Holdings',\n",
       " 'Gammon Construction',\n",
       " 'Match Talent',\n",
       " 'Eames Consulting',\n",
       " 'Neo Derm Ltd.',\n",
       " 'Kelly Services Hong Kong',\n",
       " 'Hutchison Travel Limited (hutchgo.com)',\n",
       " 'Claremont Consulting',\n",
       " 'BAH Partners',\n",
       " 'Delvify',\n",
       " 'the NBA',\n",
       " 'Pinpoint Asia',\n",
       " 'ELEVATE',\n",
       " 'RC Labs Ltd.',\n",
       " 'Match Talent',\n",
       " 'Millennium Management LLC',\n",
       " 'Page Personnel',\n",
       " 'Clustertech Limited',\n",
       " 'Life Code Limited']"
      ]
     },
     "execution_count": 166,
     "metadata": {},
     "output_type": "execute_result"
    }
   ],
   "source": [
    "companies = []\n",
    "\n",
    "for company in soup.find_all(\"div\", class_=\"d-flex justify-content-between align-items-start\"):\n",
    "    companies.append(company.a.text.strip())\n",
    "    \n",
    "companies"
   ]
  },
  {
   "cell_type": "code",
   "execution_count": 155,
   "metadata": {},
   "outputs": [
    {
     "data": {
      "text/plain": [
       "['Data Analyst',\n",
       " 'Data Scientist / Computational Scientist',\n",
       " 'Data Engineer/ Analyst #JES',\n",
       " 'Data Scientist',\n",
       " 'Data Scientist',\n",
       " 'Data Analyst / Data Scientist',\n",
       " 'Data Scientist',\n",
       " 'Data Scientist',\n",
       " 'Data Scientist',\n",
       " 'Data Scientist',\n",
       " 'Data Scientist',\n",
       " 'Data Scientist',\n",
       " 'Data Scientist',\n",
       " 'Data Scientist',\n",
       " 'Data Scientist',\n",
       " 'Data Scientist',\n",
       " 'Data Scientist',\n",
       " 'Data Scientist',\n",
       " 'Data Scientist',\n",
       " 'Data Scientist',\n",
       " 'Data Scientist',\n",
       " 'Data Scientist (Project), NBA Asia',\n",
       " 'NEW Data Scientist / NLP role - Hedge Fund - Hong Kong',\n",
       " 'Data Scientist / Computational Scientist',\n",
       " 'Data Scientist - Leading Bank in Hong Kong - Predictive Modelling',\n",
       " 'Senior Data Scientist (Machine Learning) – Innovative Projects with a Top-tier Global Investment Bank',\n",
       " 'Data Scientist, Product and Analytics',\n",
       " 'Machine Learning Engineer / Data Scientist (Battery Modeling)',\n",
       " 'Data Scientist / Analyst',\n",
       " 'Data Scientist (Machine Learning)',\n",
       " 'Data Scientist - Big Data',\n",
       " 'Junior Data Scientist']"
      ]
     },
     "execution_count": 155,
     "metadata": {},
     "output_type": "execute_result"
    }
   ],
   "source": [
    "roles = []\n",
    "\n",
    "for role in soup.find_all(\"div\", class_=\"d-flex flex-column pl-sm css-1d3xmk8 e1rrn5ka4\"):\n",
    "    roles.append(role.findAll('a')[1].text.strip())\n",
    "    \n",
    "roles"
   ]
  },
  {
   "cell_type": "code",
   "execution_count": 167,
   "metadata": {},
   "outputs": [
    {
     "data": {
      "text/plain": [
       "['HK$118K - HK$420K (Glassdoor Est.)',\n",
       " 'HK$264K - HK$500K (Glassdoor Est.)',\n",
       " 'HK$403K - HK$540K (Glassdoor Est.)',\n",
       " 'NA',\n",
       " 'NA',\n",
       " 'HK$264K - HK$500K (Glassdoor Est.)',\n",
       " 'NA',\n",
       " 'NA',\n",
       " 'HK$240K - HK$540K (Glassdoor Est.)',\n",
       " 'HK$270K - HK$336K (Glassdoor Est.)',\n",
       " 'NA',\n",
       " 'HK$264K - HK$500K (Glassdoor Est.)',\n",
       " 'NA',\n",
       " 'NA',\n",
       " 'NA',\n",
       " 'NA',\n",
       " 'NA',\n",
       " 'HK$264K - HK$500K (Glassdoor Est.)',\n",
       " 'NA',\n",
       " 'NA',\n",
       " 'NA',\n",
       " 'NA',\n",
       " 'HK$270K - HK$540K (Glassdoor Est.)',\n",
       " 'HK$288K - HK$396K (Glassdoor Est.)',\n",
       " 'NA',\n",
       " 'HK$264K - HK$500K (Glassdoor Est.)',\n",
       " 'HK$396K - HK$660K (Glassdoor Est.)',\n",
       " 'HK$264K - HK$500K (Glassdoor Est.)',\n",
       " 'HK$300K - HK$365K (Glassdoor Est.)',\n",
       " 'NA']"
      ]
     },
     "execution_count": 167,
     "metadata": {},
     "output_type": "execute_result"
    }
   ],
   "source": [
    "salaries = []\n",
    "\n",
    "for salary in soup.find_all(\"div\", class_=\"d-flex flex-column pl-sm css-1d3xmk8 e1rrn5ka4\"):\n",
    "    try:\n",
    "        salaries.append(salary.find(\"span\", class_=\"css-1imh2hq e1wijj242\").text)\n",
    "    except:\n",
    "        salaries.append(\"NA\")\n",
    "    \n",
    "salaries"
   ]
  },
  {
   "cell_type": "code",
   "execution_count": 168,
   "metadata": {},
   "outputs": [
    {
     "data": {
      "text/plain": [
       "{'Size': '10000+ Employees',\n",
       " 'Founded': '1841',\n",
       " 'Type': 'Company - Private',\n",
       " 'Industry': 'Drug & Health Stores',\n",
       " 'Sector': 'Retail',\n",
       " 'Revenue': '$10+ billion (USD)'}"
      ]
     },
     "execution_count": 168,
     "metadata": {},
     "output_type": "execute_result"
    }
   ],
   "source": [
    "company_overview = dict(zip(variable, variable_data))\n",
    "variable = []\n",
    "variable_data = []\n",
    "\n",
    "for overview in soup.find_all(\"div\", class_=\"d-flex justify-content-start css-rmzuhb e1pvx6aw0\"):\n",
    "    variable.append(overview.find(\"span\", class_=\"css-1taruhi e1pvx6aw1\").text)\n",
    "    variable_data.append(overview.find(\"span\", class_=\"css-i9gxme e1pvx6aw2\").text)\n",
    "    \n",
    "company_overview"
   ]
  },
  {
   "cell_type": "code",
   "execution_count": 169,
   "metadata": {},
   "outputs": [
    {
     "data": {
      "text/plain": [
       "['https://www.glassdoor.com.hk/partner/jobListing.htm?pos=101&ao=1044072&s=58&guid=0000017a1de229c690f5366f45c8985a&src=GD_JOB_AD&t=SR&vt=w&ea=1&cs=1_363996ef&cb=1623998999262&jobListingId=4103215936',\n",
       " 'https://www.glassdoor.com.hk/partner/jobListing.htm?pos=102&ao=1136006&s=58&guid=0000017a1de229c690f5366f45c8985a&src=GD_JOB_AD&t=SR&vt=w&cs=1_3f2ef961&cb=1623998999263&jobListingId=4108547536',\n",
       " 'https://www.glassdoor.com.hk/partner/jobListing.htm?pos=103&ao=1136006&s=58&guid=0000017a1de229c690f5366f45c8985a&src=GD_JOB_AD&t=SR&vt=w&cs=1_7a5d2845&cb=1623998999264&jobListingId=4059226416',\n",
       " 'https://www.glassdoor.com.hk/partner/jobListing.htm?pos=104&ao=1136006&s=58&guid=0000017a1de229c690f5366f45c8985a&src=GD_JOB_AD&t=SR&vt=w&cs=1_a1e6f21b&cb=1623998999265&jobListingId=4058862208',\n",
       " 'https://www.glassdoor.com.hk/partner/jobListing.htm?pos=105&ao=1136006&s=58&guid=0000017a1de229c690f5366f45c8985a&src=GD_JOB_AD&t=SR&vt=w&cs=1_6b7931f0&cb=1623998999268&jobListingId=4090526945',\n",
       " 'https://www.glassdoor.com.hk/partner/jobListing.htm?pos=106&ao=1136006&s=58&guid=0000017a1de229c690f5366f45c8985a&src=GD_JOB_AD&t=SR&vt=w&cs=1_b11a5e9a&cb=1623998999269&jobListingId=4069170422',\n",
       " 'https://www.glassdoor.com.hk/partner/jobListing.htm?pos=107&ao=1136006&s=58&guid=0000017a1de229c690f5366f45c8985a&src=GD_JOB_AD&t=SR&vt=w&cs=1_a60dd473&cb=1623998999269&jobListingId=4000135398',\n",
       " 'https://www.glassdoor.com.hk/partner/jobListing.htm?pos=108&ao=1136006&s=58&guid=0000017a1de229c690f5366f45c8985a&src=GD_JOB_AD&t=SR&vt=w&cs=1_ce54d5d1&cb=1623998999269&jobListingId=4066033438',\n",
       " 'https://www.glassdoor.com.hk/partner/jobListing.htm?pos=109&ao=1136006&s=58&guid=0000017a1de229c690f5366f45c8985a&src=GD_JOB_AD&t=SR&vt=w&cs=1_1e81895f&cb=1623998999270&jobListingId=4028834569',\n",
       " 'https://www.glassdoor.com.hk/partner/jobListing.htm?pos=110&ao=1136006&s=58&guid=0000017a1de229c690f5366f45c8985a&src=GD_JOB_AD&t=SR&vt=w&ea=1&cs=1_5b90e20f&cb=1623998999270&jobListingId=4040397641',\n",
       " 'https://www.glassdoor.com.hk/partner/jobListing.htm?pos=111&ao=1136006&s=58&guid=0000017a1de229c690f5366f45c8985a&src=GD_JOB_AD&t=SR&vt=w&ea=1&cs=1_e36790ca&cb=1623998999271&jobListingId=3657158443',\n",
       " 'https://www.glassdoor.com.hk/partner/jobListing.htm?pos=112&ao=1136006&s=58&guid=0000017a1de229c690f5366f45c8985a&src=GD_JOB_AD&t=SR&vt=w&cs=1_ae1cb7bb&cb=1623998999272&jobListingId=4039340769',\n",
       " 'https://www.glassdoor.com.hk/partner/jobListing.htm?pos=113&ao=1136006&s=58&guid=0000017a1de229c690f5366f45c8985a&src=GD_JOB_AD&t=SR&vt=w&cs=1_49d0830c&cb=1623998999272&jobListingId=4104918325',\n",
       " 'https://www.glassdoor.com.hk/partner/jobListing.htm?pos=114&ao=1136006&s=58&guid=0000017a1de229c690f5366f45c8985a&src=GD_JOB_AD&t=SR&vt=w&cs=1_c1626de2&cb=1623998999272&jobListingId=3657210648',\n",
       " 'https://www.glassdoor.com.hk/partner/jobListing.htm?pos=115&ao=1136006&s=58&guid=0000017a1de229c690f5366f45c8985a&src=GD_JOB_AD&t=SR&vt=w&cs=1_aa4cc3d1&cb=1623998999272&jobListingId=4105672908',\n",
       " 'https://www.glassdoor.com.hk/partner/jobListing.htm?pos=116&ao=1136006&s=58&guid=0000017a1de229c690f5366f45c8985a&src=GD_JOB_AD&t=SR&vt=w&cs=1_8d8ed841&cb=1623998999272&jobListingId=3657155808',\n",
       " 'https://www.glassdoor.com.hk/partner/jobListing.htm?pos=117&ao=1136006&s=58&guid=0000017a1de229c690f5366f45c8985a&src=GD_JOB_AD&t=SR&vt=w&cs=1_818fa3f1&cb=1623998999272&jobListingId=4060411350',\n",
       " 'https://www.glassdoor.com.hk/partner/jobListing.htm?pos=118&ao=1136006&s=58&guid=0000017a1de229c690f5366f45c8985a&src=GD_JOB_AD&t=SR&vt=w&cs=1_b6b7a116&cb=1623998999273&jobListingId=3657161456',\n",
       " 'https://www.glassdoor.com.hk/partner/jobListing.htm?pos=119&ao=1136006&s=58&guid=0000017a1de229c690f5366f45c8985a&src=GD_JOB_AD&t=SR&vt=w&cs=1_497c111c&cb=1623998999273&jobListingId=4107930759',\n",
       " 'https://www.glassdoor.com.hk/partner/jobListing.htm?pos=120&ao=1136006&s=58&guid=0000017a1de229c690f5366f45c8985a&src=GD_JOB_AD&t=SR&vt=w&cs=1_8417d0c6&cb=1623998999273&jobListingId=4110975619',\n",
       " 'https://www.glassdoor.com.hk/partner/jobListing.htm?pos=121&ao=1136006&s=58&guid=0000017a1de229c690f5366f45c8985a&src=GD_JOB_AD&t=SR&vt=w&cs=1_fcd3be61&cb=1623998999273&jobListingId=3677964983',\n",
       " 'https://www.glassdoor.com.hk/partner/jobListing.htm?pos=122&ao=1136006&s=58&guid=0000017a1de229c690f5366f45c8985a&src=GD_JOB_AD&t=SR&vt=w&cs=1_5f5cd3e6&cb=1623998999273&jobListingId=4084592024',\n",
       " 'https://www.glassdoor.com.hk/partner/jobListing.htm?pos=123&ao=1136006&s=58&guid=0000017a1de229c690f5366f45c8985a&src=GD_JOB_AD&t=SR&vt=w&cs=1_a4c67a3a&cb=1623998999273&jobListingId=3741667980',\n",
       " 'https://www.glassdoor.com.hk/partner/jobListing.htm?pos=124&ao=1136006&s=58&guid=0000017a1de229c690f5366f45c8985a&src=GD_JOB_AD&t=SR&vt=w&ea=1&cs=1_47974bda&cb=1623998999274&jobListingId=4098003273',\n",
       " 'https://www.glassdoor.com.hk/partner/jobListing.htm?pos=125&ao=1136006&s=58&guid=0000017a1de229c690f5366f45c8985a&src=GD_JOB_AD&t=SR&vt=w&cs=1_d024f709&cb=1623998999274&jobListingId=4114914335',\n",
       " 'https://www.glassdoor.com.hk/partner/jobListing.htm?pos=126&ao=1136006&s=58&guid=0000017a1de229c690f5366f45c8985a&src=GD_JOB_AD&t=SR&vt=w&cs=1_d8109312&cb=1623998999274&jobListingId=3657209724',\n",
       " 'https://www.glassdoor.com.hk/partner/jobListing.htm?pos=127&ao=1136006&s=58&guid=0000017a1de229c690f5366f45c8985a&src=GD_JOB_AD&t=SR&vt=w&cs=1_436c6f21&cb=1623998999274&jobListingId=4077872944',\n",
       " 'https://www.glassdoor.com.hk/partner/jobListing.htm?pos=128&ao=1136006&s=58&guid=0000017a1de229c690f5366f45c8985a&src=GD_JOB_AD&t=SR&vt=w&cs=1_902343c5&cb=1623998999274&jobListingId=3657230699',\n",
       " 'https://www.glassdoor.com.hk/partner/jobListing.htm?pos=129&ao=1136006&s=58&guid=0000017a1de229c690f5366f45c8985a&src=GD_JOB_AD&t=SR&vt=w&cs=1_90d0cdd0&cb=1623998999274&jobListingId=4069170425',\n",
       " 'https://www.glassdoor.com.hk/partner/jobListing.htm?pos=130&ao=1044077&s=58&guid=0000017a1de229c690f5366f45c8985a&src=GD_JOB_AD&t=SR&vt=w&ea=1&cs=1_2920df13&cb=1623998999275&jobListingId=4115584925']"
      ]
     },
     "execution_count": 169,
     "metadata": {},
     "output_type": "execute_result"
    }
   ],
   "source": [
    "links = []\n",
    "\n",
    "for link in soup.find_all(\"div\", class_=\"d-flex justify-content-between align-items-start\"):\n",
    "    link = \"https://www.glassdoor.com.hk\" + link.a['href']\n",
    "    links.append(link)\n",
    "    \n",
    "links"
   ]
  },
  {
   "cell_type": "code",
   "execution_count": 171,
   "metadata": {},
   "outputs": [
    {
     "ename": "AttributeError",
     "evalue": "'NoneType' object has no attribute 'text'",
     "output_type": "error",
     "traceback": [
      "\u001b[0;31m---------------------------------------------------------------------------\u001b[0m",
      "\u001b[0;31mAttributeError\u001b[0m                            Traceback (most recent call last)",
      "\u001b[0;32m<ipython-input-171-af1c4dcc893c>\u001b[0m in \u001b[0;36m<module>\u001b[0;34m\u001b[0m\n\u001b[1;32m     10\u001b[0m \u001b[0;34m\u001b[0m\u001b[0m\n\u001b[1;32m     11\u001b[0m     \u001b[0;32mfor\u001b[0m \u001b[0moverview1\u001b[0m \u001b[0;32min\u001b[0m \u001b[0mbs\u001b[0m\u001b[0;34m.\u001b[0m\u001b[0mfind_all\u001b[0m\u001b[0;34m(\u001b[0m\u001b[0;34m\"div\"\u001b[0m\u001b[0;34m,\u001b[0m \u001b[0mclass_\u001b[0m\u001b[0;34m=\u001b[0m\u001b[0;34m\"css-jfggi0 e1eh6fgm3\"\u001b[0m\u001b[0;34m)\u001b[0m\u001b[0;34m:\u001b[0m\u001b[0;34m\u001b[0m\u001b[0;34m\u001b[0m\u001b[0m\n\u001b[0;32m---> 12\u001b[0;31m         \u001b[0mvariable1\u001b[0m\u001b[0;34m.\u001b[0m\u001b[0mappend\u001b[0m\u001b[0;34m(\u001b[0m\u001b[0moverview1\u001b[0m\u001b[0;34m.\u001b[0m\u001b[0mfind\u001b[0m\u001b[0;34m(\u001b[0m\u001b[0;34m\"span\"\u001b[0m\u001b[0;34m,\u001b[0m \u001b[0mclass_\u001b[0m\u001b[0;34m=\u001b[0m\u001b[0;34m\"css-1vg6q84 e18tf5om6\"\u001b[0m\u001b[0;34m)\u001b[0m\u001b[0;34m.\u001b[0m\u001b[0mtext\u001b[0m\u001b[0;34m)\u001b[0m\u001b[0;34m\u001b[0m\u001b[0;34m\u001b[0m\u001b[0m\n\u001b[0m\u001b[1;32m     13\u001b[0m         \u001b[0mvariable_data1\u001b[0m\u001b[0;34m.\u001b[0m\u001b[0mappend\u001b[0m\u001b[0;34m(\u001b[0m\u001b[0moverview1\u001b[0m\u001b[0;34m.\u001b[0m\u001b[0mfind\u001b[0m\u001b[0;34m(\u001b[0m\u001b[0;34m\"span\"\u001b[0m\u001b[0;34m,\u001b[0m \u001b[0mclass_\u001b[0m\u001b[0;34m=\u001b[0m\u001b[0;34m\"css-sr4ps0 e18tf5om4\"\u001b[0m\u001b[0;34m)\u001b[0m\u001b[0;34m.\u001b[0m\u001b[0mtext\u001b[0m\u001b[0;34m)\u001b[0m\u001b[0;34m\u001b[0m\u001b[0;34m\u001b[0m\u001b[0m\n\u001b[1;32m     14\u001b[0m \u001b[0;34m\u001b[0m\u001b[0m\n",
      "\u001b[0;31mAttributeError\u001b[0m: 'NoneType' object has no attribute 'text'"
     ]
    }
   ],
   "source": [
    "company_overview1 = (variable1, variable_data1)\n",
    "\n",
    "for each_link in links:\n",
    "    driver.get(each_link)\n",
    "    subhtml = driver.page_source\n",
    "    bs = BeautifulSoup(subhtml, 'html.parser')\n",
    "    \n",
    "    variable1 = []\n",
    "    variable_data1 = []\n",
    "    \n",
    "    for overview1 in bs.find_all(\"div\", class_=\"css-jfggi0 e1eh6fgm3\"):\n",
    "        variable1.append(overview1.find(\"span\", class_=\"css-1vg6q84 e18tf5om6\").text)\n",
    "        variable_data1.append(overview1.find(\"span\", class_=\"css-sr4ps0 e18tf5om4\").text)\n",
    "    \n",
    "company_overview1"
   ]
  },
  {
   "cell_type": "code",
   "execution_count": 146,
   "metadata": {},
   "outputs": [
    {
     "ename": "TypeError",
     "evalue": "unhashable type: 'ResultSet'",
     "output_type": "error",
     "traceback": [
      "\u001b[0;31m---------------------------------------------------------------------------\u001b[0m",
      "\u001b[0;31mTypeError\u001b[0m                                 Traceback (most recent call last)",
      "\u001b[0;32m<ipython-input-146-2e07582c34d7>\u001b[0m in \u001b[0;36m<module>\u001b[0;34m\u001b[0m\n\u001b[0;32m----> 1\u001b[0;31m \u001b[0mcompany_overview1\u001b[0m \u001b[0;34m=\u001b[0m \u001b[0mdict\u001b[0m\u001b[0;34m(\u001b[0m\u001b[0mzip\u001b[0m\u001b[0;34m(\u001b[0m\u001b[0mvariable1\u001b[0m\u001b[0;34m,\u001b[0m \u001b[0mvariable_data1\u001b[0m\u001b[0;34m)\u001b[0m\u001b[0;34m)\u001b[0m\u001b[0;34m\u001b[0m\u001b[0;34m\u001b[0m\u001b[0m\n\u001b[0m\u001b[1;32m      2\u001b[0m \u001b[0;34m\u001b[0m\u001b[0m\n\u001b[1;32m      3\u001b[0m \u001b[0;32mfor\u001b[0m \u001b[0meach_link\u001b[0m \u001b[0;32min\u001b[0m \u001b[0mlinks\u001b[0m\u001b[0;34m:\u001b[0m\u001b[0;34m\u001b[0m\u001b[0;34m\u001b[0m\u001b[0m\n\u001b[1;32m      4\u001b[0m     \u001b[0mdriver\u001b[0m\u001b[0;34m.\u001b[0m\u001b[0mget\u001b[0m\u001b[0;34m(\u001b[0m\u001b[0meach_link\u001b[0m\u001b[0;34m)\u001b[0m\u001b[0;34m\u001b[0m\u001b[0;34m\u001b[0m\u001b[0m\n\u001b[1;32m      5\u001b[0m     \u001b[0msubhtml\u001b[0m \u001b[0;34m=\u001b[0m \u001b[0mdriver\u001b[0m\u001b[0;34m.\u001b[0m\u001b[0mpage_source\u001b[0m\u001b[0;34m\u001b[0m\u001b[0;34m\u001b[0m\u001b[0m\n",
      "\u001b[0;31mTypeError\u001b[0m: unhashable type: 'ResultSet'"
     ]
    }
   ],
   "source": [
    "company_overview1 = dict(zip(variable1, variable_data1))\n",
    "\n",
    "for each_link in links:\n",
    "    driver.get(each_link)\n",
    "    subhtml = driver.page_source\n",
    "    bs = BeautifulSoup(subhtml, 'html.parser')\n",
    "    \n",
    "    variable1 = []\n",
    "    variable_data1 = []\n",
    "    \n",
    "    for overview1 in bs.find_All(\"div\", class_=\"css-1x772q6 e18tf5om0\")[1]:\n",
    "        variable1.append(overview1.find(\"label\").text)\n",
    "        variable_data1.append(overview1.find(\"span\").text)\n",
    "    \n",
    "company_overview1"
   ]
  }
 ],
 "metadata": {
  "kernelspec": {
   "display_name": "Python 3",
   "language": "python",
   "name": "python3"
  },
  "language_info": {
   "codemirror_mode": {
    "name": "ipython",
    "version": 3
   },
   "file_extension": ".py",
   "mimetype": "text/x-python",
   "name": "python",
   "nbconvert_exporter": "python",
   "pygments_lexer": "ipython3",
   "version": "3.8.5"
  }
 },
 "nbformat": 4,
 "nbformat_minor": 4
}
